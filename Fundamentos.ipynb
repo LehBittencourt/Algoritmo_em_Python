{
  "nbformat": 4,
  "nbformat_minor": 0,
  "metadata": {
    "colab": {
      "provenance": []
    },
    "kernelspec": {
      "name": "python3",
      "display_name": "Python 3"
    },
    "language_info": {
      "name": "python"
    }
  },
  "cells": [
    {
      "cell_type": "markdown",
      "source": [
        "# **Fundamentos**"
      ],
      "metadata": {
        "id": "YXmtZJS6QF2W"
      }
    },
    {
      "cell_type": "markdown",
      "source": [
        "## **Operadores Aritmeticos**"
      ],
      "metadata": {
        "id": "SBRB5r1JzH2R"
      }
    },
    {
      "cell_type": "code",
      "source": [
        "# 1. Faça um programa que leia um número inteiro e mostre na tela o seu sucessor e seu antecessor.\n",
        "\n",
        "n = int(input(\"Digite um número: \"))\n",
        "antecessor = n - 1\n",
        "sucessor = n + 1\n",
        "print(\"Analisando o valor {}, seu antecessor é {} e o seu sucessor é {}\".format(n, antecessor, sucessor))"
      ],
      "metadata": {
        "colab": {
          "base_uri": "https://localhost:8080/"
        },
        "id": "dNQWF8F9RGy0",
        "outputId": "671f7c5b-c7ba-4dd1-b7b1-ae7dfb3e1c51"
      },
      "execution_count": 15,
      "outputs": [
        {
          "output_type": "stream",
          "name": "stdout",
          "text": [
            "Digite um número: 5\n",
            "Analisando o valor 5, seu antecessor é 4 e o seu sucessor é 6\n"
          ]
        }
      ]
    },
    {
      "cell_type": "code",
      "source": [
        "# 2. Crie um algoritmo que leia um número e mostre o seu dobro, triplo e raiz quadrada\n",
        "\n",
        "n1 = int(input('Digite um número: '))\n",
        "print(\"Número = {}\".format(n1))\n",
        "print(\"Dobro = {}\".format(n1*2))\n",
        "print(\"Triplo = {}\".format(n1*3))\n",
        "print(\"Raiz quadrada = {}\".format(n1** (1/2)))"
      ],
      "metadata": {
        "colab": {
          "base_uri": "https://localhost:8080/"
        },
        "id": "QWoyiqCMntWR",
        "outputId": "b1f90783-0c3b-445b-fec0-361907ef57ee"
      },
      "execution_count": 25,
      "outputs": [
        {
          "output_type": "stream",
          "name": "stdout",
          "text": [
            "Digite um número: 4\n",
            "Número = 4\n",
            "Dobro = 8\n",
            "Triplo = 12\n",
            "Raiz quadrada = 2.0\n"
          ]
        }
      ]
    },
    {
      "cell_type": "code",
      "source": [
        "# 3. Desenvolva um programa que leia as duas notas de um aluno. Calcule e mostre a sua média.\n",
        "\n",
        "n1 = float(input('Digite a primeira nota: '))\n",
        "n2 = float(input('Digite a segunda nota: '))\n",
        "media = (n1 + n2) / 2\n",
        "print('A media do aluno é: {}'.format(media) )"
      ],
      "metadata": {
        "colab": {
          "base_uri": "https://localhost:8080/"
        },
        "id": "GIGNa-ksLyPX",
        "outputId": "78960997-4dd9-4ad4-ac65-ef512a90e2fd"
      },
      "execution_count": 19,
      "outputs": [
        {
          "output_type": "stream",
          "name": "stdout",
          "text": [
            "Digite a primeira nota: 8\n",
            "Digite a segunda nota: 4\n",
            "A media do aluno é: 6.0\n"
          ]
        }
      ]
    },
    {
      "cell_type": "code",
      "source": [
        "# 4. Escreva um programa que leia um valor em metros e o exiba convertido em centímetros e milimetros\n",
        "\n",
        "medida = float(input('Digite uma medida em metros: '))\n",
        "cm = medida * 100\n",
        "mm = medida * 1000\n",
        "print('''Medida em metros: {}\n",
        "Medida em centimetros: {}\n",
        "Medida em milimetros: {}\n",
        "         '''. format(medida, cm, mm))"
      ],
      "metadata": {
        "colab": {
          "base_uri": "https://localhost:8080/"
        },
        "id": "7oLZAWaFMan1",
        "outputId": "c1ec9d01-5878-4737-bc6a-a0ebf8d75333"
      },
      "execution_count": 20,
      "outputs": [
        {
          "output_type": "stream",
          "name": "stdout",
          "text": [
            "Digite uma medida em metros: 200\n",
            "Medida em metros: 200.0\n",
            "Medida em centimetros: 20000.0\n",
            "Medida em milimetros: 200000.0\n",
            "         \n"
          ]
        }
      ]
    },
    {
      "cell_type": "code",
      "source": [
        "# 5. Faça a tabuada que leia um número inteiro qualquer e mostre na tela a sua tabuada\n",
        "\n",
        "num = int(input('Digite um número: '))\n",
        "\n",
        "print('{} x {:2} = {}'.format(num, 0, num*0))\n",
        "print('{} x {:2} = {}'.format(num, 1, num*1))\n",
        "print('{} x {:2} = {}'.format(num, 2, num*2))\n",
        "print('{} x {:2} = {}'.format(num, 3, num*3))\n",
        "print('{} x {:2} = {}'.format(num, 4, num*4))\n",
        "print('{} x {:2} = {}'.format(num, 5, num*5))\n",
        "print('{} x {:2} = {}'.format(num, 6, num*6))\n",
        "print('{} x {:2} = {}'.format(num, 7, num*7))\n",
        "print('{} x {:2} = {}'.format(num, 8, num*8))\n",
        "print('{} x {:2} = {}'.format(num, 9, num*9))\n",
        "print('{} x {} = {}'.format(num, 10, num*10))"
      ],
      "metadata": {
        "colab": {
          "base_uri": "https://localhost:8080/"
        },
        "id": "D35EmZLJqJ2t",
        "outputId": "093faf88-97b8-464d-ca2b-6ce14d5890cc"
      },
      "execution_count": 21,
      "outputs": [
        {
          "output_type": "stream",
          "name": "stdout",
          "text": [
            "Digite um número: 5\n",
            "5 x  0 = 0\n",
            "5 x  1 = 5\n",
            "5 x  2 = 10\n",
            "5 x  3 = 15\n",
            "5 x  4 = 20\n",
            "5 x  5 = 25\n",
            "5 x  6 = 30\n",
            "5 x  7 = 35\n",
            "5 x  8 = 40\n",
            "5 x  9 = 45\n",
            "5 x 10 = 50\n"
          ]
        }
      ]
    },
    {
      "cell_type": "code",
      "source": [
        "# 6. Crie um programa que leia quanto dinheiro uma pessoa tem na carteira e mostre quantos dólares ela pode comprar. Considere US 1.00 = R$ 3.27\n",
        "\n",
        "dinheiro = float(input('Digite quanto dinhiero tem em sua carteira: '))\n",
        "print(\"Com tantos R$ {:.2f} você pode comprar US {:.2f}\".format(dinheiro, dinheiro / 3.27))"
      ],
      "metadata": {
        "colab": {
          "base_uri": "https://localhost:8080/"
        },
        "id": "4DFyTVPzq3mf",
        "outputId": "c93490df-669b-4077-82e3-79ac390fe124"
      },
      "execution_count": 22,
      "outputs": [
        {
          "output_type": "stream",
          "name": "stdout",
          "text": [
            "Digite quanto dinhiero tem em sua carteira: 125.32\n",
            "Com tantos R$ 125.32 você pode comprar US 38.32\n"
          ]
        }
      ]
    },
    {
      "cell_type": "code",
      "source": [
        "# 7. Faça um programa que leia a largura e a altura de uma parde em metros. Calculee a sua área e a quantidade de tinta necessária para pintá-la, sabendo que cada litro de tinta pinta uma área de 2 metros quadrados.\n",
        "largura = float(input(\"Digite a largura da parde em metros: \"))\n",
        "altura = float(input('Digite a altura da parde em metros: '))\n",
        "area = largura * altura\n",
        "tinta = area / 2\n",
        "print('Area da parede: {}'.format(area))\n",
        "print(\"Quantidade de tinta necessaria: {}\".format(tinta))"
      ],
      "metadata": {
        "colab": {
          "base_uri": "https://localhost:8080/"
        },
        "id": "jAZu6UtMNJeQ",
        "outputId": "794e5244-7fe8-4dd4-8414-91bbdf7cbbc7"
      },
      "execution_count": 23,
      "outputs": [
        {
          "output_type": "stream",
          "name": "stdout",
          "text": [
            "Digite a largura da parde em metros: 5\n",
            "Digite a altura da parde em metros: 5\n",
            "Area da parede: 25.0\n",
            "Quantidade de tinta necessaria: 12.5\n"
          ]
        }
      ]
    },
    {
      "cell_type": "code",
      "source": [
        "# 8. Faça um algoritmo que leia o preço de um produto e mostre seu novo preço com 5% de desconto.\n",
        "\n",
        "preco = float(input(\"Digite o preco do produto: \"))\n",
        "desconto = preco * 0.95\n",
        "print('Valor do produto com desconto de 5%: {}'.format(desconto))"
      ],
      "metadata": {
        "colab": {
          "base_uri": "https://localhost:8080/"
        },
        "id": "V6KU5xgzORls",
        "outputId": "0bae0d9e-c066-4fe0-c2de-a2e386810d37"
      },
      "execution_count": 12,
      "outputs": [
        {
          "output_type": "stream",
          "name": "stdout",
          "text": [
            "Digite o preco do produto: 100\n",
            "Valor do produto com desconto de 5%: 95.0\n"
          ]
        }
      ]
    },
    {
      "cell_type": "code",
      "source": [
        "# 9. Faça um algoritmo que leia o salário de um funcionário e mostre seu novo salário com 15% de aumento.\n",
        "\n",
        "salario = float(input(\"Digite o salario de um funcionario: \"))\n",
        "aumento = salario * 1.15\n",
        "print('Salario com um aumento de 15%: {}'.format(aumento))"
      ],
      "metadata": {
        "colab": {
          "base_uri": "https://localhost:8080/"
        },
        "id": "BmSvh7WiPAL8",
        "outputId": "a4ac052c-54ed-4414-cf63-fce14397e359"
      },
      "execution_count": 24,
      "outputs": [
        {
          "output_type": "stream",
          "name": "stdout",
          "text": [
            "Digite o salario de um funcionario: 1000\n",
            "Salario com um aumento de 15%: 1150.0\n"
          ]
        }
      ]
    },
    {
      "cell_type": "code",
      "source": [
        "# 10. Escreva um programa que converte uma temperatura digitada em ºC e converta ºF.\n",
        "C = float(input('Informe a temperatura em ºC: '))\n",
        "F = ((9 * C) / 5) + 32\n",
        "print('A temperatura de {} ºC corresponde a {} ºF'.format(C, F))"
      ],
      "metadata": {
        "colab": {
          "base_uri": "https://localhost:8080/"
        },
        "id": "nQDh_d1RXaCt",
        "outputId": "7dfe9ca9-f882-49af-8be8-088bd2cdec61"
      },
      "execution_count": 27,
      "outputs": [
        {
          "output_type": "stream",
          "name": "stdout",
          "text": [
            "Informe a temperatura em ºC: 40\n",
            "A temperatura de 40.0 ºC corresponde a 104.0 ºF\n"
          ]
        }
      ]
    },
    {
      "cell_type": "code",
      "source": [
        "# 11. Escreva um programa que pergunte a quantidade de Km percorridos por um carro alugado e a quantidade de dias pelos quais ele foi alugado. Calcule o preço a pagar, sabendo que o carro custa R$ 60 por dia e R$ 0.15 por Km rodado.\n",
        "\n",
        "km = int(input('Informe a quantidade de km percorridos: '))\n",
        "dias = int(input(\"Quantidade de dias alugado: \"))\n",
        "valorRodado = km * 0.15\n",
        "valorCarro = dias * 60\n",
        "print(\"Preço a pagar: {} reais.\".format(valorCarro + valorRodado))"
      ],
      "metadata": {
        "colab": {
          "base_uri": "https://localhost:8080/"
        },
        "id": "hu9DhcfGxlND",
        "outputId": "d85e9770-98be-46a5-ecf5-92ccd7ee140c"
      },
      "execution_count": 28,
      "outputs": [
        {
          "output_type": "stream",
          "name": "stdout",
          "text": [
            "Informe a quantidade de km percorridos: 350\n",
            "Quantidade de dias alugado: 3\n",
            "Preço a pagar: 232.5 reais.\n"
          ]
        }
      ]
    },
    {
      "cell_type": "markdown",
      "source": [
        "## **Utilizando Módulos**"
      ],
      "metadata": {
        "id": "c3JB61o0zkjd"
      }
    },
    {
      "cell_type": "code",
      "source": [
        "import math"
      ],
      "metadata": {
        "id": "zPr2lOchMgNl"
      },
      "execution_count": 1,
      "outputs": []
    },
    {
      "cell_type": "code",
      "source": [
        "# 1. Crie um programa que leia um número Real qualquer pelo teclado e mostre na tela a sua porção inteira.\n",
        "\n",
        "n = float(input(\"Digite um número real: \"))\n",
        "print(\"O valor digitado foi {} e a sua porção inteira é {}\".format(n, math.trunc(n)))"
      ],
      "metadata": {
        "colab": {
          "base_uri": "https://localhost:8080/"
        },
        "id": "8FAGgQJKy_4f",
        "outputId": "8760dd7b-8603-40c3-e638-c197d470318d"
      },
      "execution_count": 6,
      "outputs": [
        {
          "output_type": "stream",
          "name": "stdout",
          "text": [
            "Digite um número real: 7.456\n",
            "O valor digitado foi 7.456 e a sua porção inteira é 7\n"
          ]
        }
      ]
    },
    {
      "cell_type": "code",
      "source": [
        "# 2. Faça um programa que leia o comprimento do cateto oposto e do cateto adjacente de um triângulo. Calcule e mostre o comprimento da hipotenusa.\n",
        "\n",
        "x = float(input(\"Digite a medida do cateto oposto: \"))\n",
        "y = float(input(\"Digite a medida do cateto adjacente: \"))\n",
        "print(\"Valor da hipotenusa: {:.2f}\".format(math.hypot(x, y)))"
      ],
      "metadata": {
        "colab": {
          "base_uri": "https://localhost:8080/"
        },
        "id": "-4C11kCi0GhR",
        "outputId": "46099b54-bc42-4ec7-aa99-0ff6249db963"
      },
      "execution_count": 10,
      "outputs": [
        {
          "output_type": "stream",
          "name": "stdout",
          "text": [
            "Digite a medida do cateto oposto: 2\n",
            "Digite a medida do cateto adjacente: 2.5\n",
            "Valor da hipotenusa: 3.20\n"
          ]
        }
      ]
    },
    {
      "cell_type": "code",
      "source": [
        "# 3. Faça um programa que leia um ângulo qualquer e mostre na tela o valor do seno, cosseno e tangente desse ângulo.\n",
        "\n",
        "from math import radians, sin, cos, tan\n",
        "\n",
        "angulo = int(input(\"Digite o valor do angulo: \"))\n",
        "print('O ângulo de {} tem o SENO de {:.2f}'.format(angulo, sin(radians(angulo))))\n",
        "print('O ângulo de {} tem o COSSENO de {:.2f}'.format(angulo, cos(radians(angulo))))\n",
        "print('O ângulo de {} tem o SENO de {:.2f}'.format(angulo, tan(radians(angulo))))"
      ],
      "metadata": {
        "colab": {
          "base_uri": "https://localhost:8080/"
        },
        "id": "vvZJA4ndN60w",
        "outputId": "9f678f4e-61bf-4117-e7c4-107d07116f81"
      },
      "execution_count": 17,
      "outputs": [
        {
          "output_type": "stream",
          "name": "stdout",
          "text": [
            "Digite o valor do angulo: 45\n",
            "O ângulo de 45 tem o SENO de 0.71\n",
            "O ângulo de 45 tem o COSSENO de 0.71\n",
            "O ângulo de 45 tem o SENO de 1.00\n"
          ]
        }
      ]
    },
    {
      "cell_type": "code",
      "source": [
        "# 4. Um professor quer sortear um dos seus quatro alunos para apagar o quadro. Faça um programa que ajude ele, lendo o nome deles e escrevendo o nome do escolhido.\n",
        "\n",
        "import random\n",
        "\n",
        "n1 = input('Primeiro aluno: ')\n",
        "n2 = input('Primeiro aluno: ')\n",
        "n3 = input('Primeiro aluno: ')\n",
        "n4 = input('Primeiro aluno: ')\n",
        "\n",
        "lista = [n1, n2, n3, n4]\n",
        "escolhido = random.choice(lista)\n",
        "\n",
        "print('O aluno escolhido foi {}'.format(escolhido))"
      ],
      "metadata": {
        "colab": {
          "base_uri": "https://localhost:8080/"
        },
        "id": "D9EK4H4hOm8Z",
        "outputId": "68ef99cd-54c9-43cb-e35e-a05aa8dba490"
      },
      "execution_count": 18,
      "outputs": [
        {
          "output_type": "stream",
          "name": "stdout",
          "text": [
            "Primeiro aluno: ana\n",
            "Primeiro aluno: clara\n",
            "Primeiro aluno: bia\n",
            "Primeiro aluno: sol\n",
            "O aluno escolhido foi bia\n"
          ]
        }
      ]
    },
    {
      "cell_type": "code",
      "source": [
        "# 5. O mesmo professor quer sortear a ordem de apresentação de trabalhos dos alunos. Faça um programa que leia p nome dos quatro alunos e mostre a ordem sorteada.\n",
        "\n",
        "import random\n",
        "\n",
        "n1 = input('Primeiro aluno: ')\n",
        "n2 = input('Primeiro aluno: ')\n",
        "n3 = input('Primeiro aluno: ')\n",
        "n4 = input('Primeiro aluno: ')\n",
        "\n",
        "lista = [n1, n2, n3, n4]\n",
        "random.shuffle(lista)\n",
        "\n",
        "print('A ordem de apresentação será: ')\n",
        "print(lista)\n"
      ],
      "metadata": {
        "colab": {
          "base_uri": "https://localhost:8080/"
        },
        "id": "UxuukK_iPF-h",
        "outputId": "98a7cece-e545-4f32-8da8-f66ada268cb1"
      },
      "execution_count": 19,
      "outputs": [
        {
          "output_type": "stream",
          "name": "stdout",
          "text": [
            "Primeiro aluno: ana\n",
            "Primeiro aluno: bia\n",
            "Primeiro aluno: clara\n",
            "Primeiro aluno: caio\n",
            "A ordem de apresentação será: \n",
            "['bia', 'caio', 'ana', 'clara']\n"
          ]
        }
      ]
    },
    {
      "cell_type": "markdown",
      "source": [
        "## **Manipulando Textos**"
      ],
      "metadata": {
        "id": "-ZVJ0tqDPirP"
      }
    },
    {
      "cell_type": "code",
      "source": [],
      "metadata": {
        "id": "ZxXpEuqsWqhO"
      },
      "execution_count": null,
      "outputs": []
    }
  ]
}